{
 "cells": [
  {
   "cell_type": "markdown",
   "metadata": {},
   "source": [
    "# Inversion d'Occam\n",
    "\n",
    "Avec cet exemple, on va examiner comment l'inversion d'Occam peut être utile pour estimer la distribution verticale de la conductivité électrique de la proche surface.  Les mesures utilisées ont été acquises avec un conductivimètre à induction EM38 de la compagnie Geonics, illustré ci-dessous.  Cette appareil est constitué d'une bobine émettrice et d'une bobine réceptrice, séparées d'un mètre.\n",
    "\n",
    "![alt text](EM38.jpg)\n",
    "\n",
    "En effectuant les mesures à des hauteurs croissantes, on se trouve à accroître le volume de sol investigué et ainsi accroître la profondeur d'investigation.  Par ailleurs, on change également la profondeur d'investigation en changeant l'orientation des bobines, une polarisation horizontale étant plus sensible aux horizons superficiels.  Le levé consiste ainsi en 18 mesures, acquises à 9 hauteurs différentes pour des bobines orientées verticalement et horizontalement.  \n",
    "\n",
    "| Hauteur (cm) | EMV (mS/m) | EMH (mS/m) |\n",
    "|--------------|------------|------------|\n",
    "|        0     |   134.5    |   117.4    |\n",
    "|       10     |   129.0    |    97.7    |\n",
    "|       20     |   120.5    |    81.7    |\n",
    "|       30     |   110.5    |    69.2    |\n",
    "|       40     |   100.5    |    59.6    |\n",
    "|       50     |    90.8    |    51.8    |\n",
    "|       75     |    70.9    |    38.2    |\n",
    "|      100     |    56.8    |    29.8    |\n",
    "|      150     |    38.5    |    19.9    |\n",
    "\n",
    "La modélisation de la réponse du EM38 est assez compliquée, et des expressions analytiques ne sont pas disponibles pour calculer la jacobienne.  \n",
    "\n",
    "Le module ```em``` contient deux classes permettant de calcul la réponse pour un sol stratifié.  Une méthode pour calculer la jacobienne par différences finies est aussi incluse."
   ]
  },
  {
   "cell_type": "code",
   "execution_count": 1,
   "metadata": {},
   "outputs": [
    {
     "name": "stdout",
     "output_type": "stream",
     "text": [
      "Help on class Ground in module geo1302.em:\n",
      "\n",
      "class Ground(builtins.object)\n",
      " |  Ground(nlayer=11, d=0.2)\n",
      " |  \n",
      " |  Classe pour décrire un sol stratifié\n",
      " |  \n",
      " |  Paramètres\n",
      " |  ----------\n",
      " |  nlayer : int\n",
      " |      nombre de couches\n",
      " |  d : float\n",
      " |      épaisseur des couches\n",
      " |  \n",
      " |  Methods defined here:\n",
      " |  \n",
      " |  __init__(self, nlayer=11, d=0.2)\n",
      " |      Initialize self.  See help(type(self)) for accurate signature.\n",
      " |  \n",
      " |  plot(self, sigma, ax=None)\n",
      " |      Trace la conductivité en fct de la profondeur\n",
      " |      \n",
      " |      Paramètres\n",
      " |      ----------\n",
      " |      sigma : array numpy\n",
      " |          conductivité des couches en S/m\n",
      " |  \n",
      " |  ----------------------------------------------------------------------\n",
      " |  Data descriptors defined here:\n",
      " |  \n",
      " |  __dict__\n",
      " |      dictionary for instance variables (if defined)\n",
      " |  \n",
      " |  __weakref__\n",
      " |      list of weak references to the object (if defined)\n",
      "\n",
      "Help on class EM38 in module geo1302.em:\n",
      "\n",
      "class EM38(builtins.object)\n",
      " |  EM38(h, ground, f=14600.0, r=1.0)\n",
      " |  \n",
      " |  Classe pour modéliser la réponse d'un conductivimètre EM-38\n",
      " |  \n",
      " |  Paramètres\n",
      " |  ----------\n",
      " |  h : array numpy\n",
      " |      hauteurs des mesures (m)\n",
      " |  ground : object ground\n",
      " |      description du sol\n",
      " |  f : float\n",
      " |      Fréquence d'opération (Hz)\n",
      " |  r : float\n",
      " |      distance entre les bobines\n",
      " |  \n",
      " |  Methods defined here:\n",
      " |  \n",
      " |  G(self, sigma)\n",
      " |      Modèle direct\n",
      " |      \n",
      " |      Paramètres\n",
      " |      ----------\n",
      " |      sigma : array numpy\n",
      " |          conductivité des couches (S/m)\n",
      " |  \n",
      " |  __init__(self, h, ground, f=14600.0, r=1.0)\n",
      " |      Initialize self.  See help(type(self)) for accurate signature.\n",
      " |  \n",
      " |  jac(self, sigma)\n",
      " |      Calcul de la jacobienne\n",
      " |      \n",
      " |      Paramètres\n",
      " |      ----------\n",
      " |      sigma : array numpy\n",
      " |          conductivité des couches (S/m)\n",
      " |  \n",
      " |  ----------------------------------------------------------------------\n",
      " |  Data descriptors defined here:\n",
      " |  \n",
      " |  __dict__\n",
      " |      dictionary for instance variables (if defined)\n",
      " |  \n",
      " |  __weakref__\n",
      " |      list of weak references to the object (if defined)\n",
      "\n"
     ]
    }
   ],
   "source": [
    "import numpy as np\n",
    "import matplotlib.pyplot as plt\n",
    "plt.style.use('seaborn')\n",
    "\n",
    "from geo1302.em import EM38, Ground\n",
    "\n",
    "help(Ground)\n",
    "help(EM38)"
   ]
  },
  {
   "cell_type": "markdown",
   "metadata": {},
   "source": [
    "On créé d'abord un modèle de sol comportant 11 couches de 20 cm chacune (paramètres par défaut de la classe ```Ground```).  On défini ensuite un vecteur contenant les hauteurs de mesure pour pouvoir initialiser un object ```EM38```."
   ]
  },
  {
   "cell_type": "code",
   "execution_count": 2,
   "metadata": {},
   "outputs": [],
   "source": [
    "hauteurs = np.array([0.0, 0.1, 0.2, 0.3, 0.4, 0.5, 0.75, 1.0, 1.50])\n",
    "\n",
    "sol = Ground()\n",
    "em38 = EM38(hauteurs, sol)"
   ]
  },
  {
   "cell_type": "markdown",
   "metadata": {},
   "source": [
    "La conductivité du modèle est représentative d'un sol sec en surface (conductivité faible), suivi d'une zone vadoze où la conductivité augmente graduellement.\n",
    "\n",
    "On peut maintenant générer des données, auxquelles on ajoute un bruit gaussien."
   ]
  },
  {
   "cell_type": "code",
   "execution_count": 3,
   "metadata": {},
   "outputs": [
    {
     "data": {
      "image/png": "[encoded data removed]",
      "text/plain": [
       "<Figure size 432x576 with 1 Axes>"
      ]
     },
     "metadata": {
      "needs_background": "light"
     },
     "output_type": "display_data"
    }
   ],
   "source": [
    "mtrue = np.array([100, 95, 90, 95, 100, 130, 160, 200, 250, 310, 360])/1000.0\n",
    "\n",
    "datanf = em38.G(mtrue)\n",
    "data = datanf + 0.1*np.random.randn(datanf.size)\n",
    "\n",
    "sol.plot(mtrue)\n",
    "plt.title('Modèle vrai', fontsize=18)\n",
    "plt.show()"
   ]
  },
  {
   "cell_type": "markdown",
   "metadata": {},
   "source": [
    "Examinons d'abord la solution obtenue avec la méthode de Marquardt-Levenberg, qui ne comporte pas de terme de régularisation."
   ]
  },
  {
   "cell_type": "code",
   "execution_count": 4,
   "metadata": {},
   "outputs": [],
   "source": [
    "def lm(G, jac, d, m0, maxit=100, eps=1.e-8):\n",
    "    m = m0.copy()\n",
    "    kr = eps\n",
    "    iteration = 1\n",
    "    maxiteration = maxit\n",
    "    dfit = 1\n",
    "\n",
    "    while iteration < maxiteration:\n",
    "        Gm = G(m)\n",
    "\n",
    "        e1 = d - Gm\n",
    "        e1 = e1.reshape(-1, 1)\n",
    "        misfit1 = e1.T.dot(e1)\n",
    "        if misfit1 < kr:\n",
    "            return m\n",
    "        J = jac(m)\n",
    "        U, s, Vh = np.linalg.svd(J, full_matrices=False)\n",
    "        V = Vh.T\n",
    "        l = 0\n",
    "        k = 1\n",
    "        S = np.eye(s.size)\n",
    "        while l < s.size:\n",
    "            beta = s[l] * dfit**(1.0/(l+1))\n",
    "            if beta < 1.e-5:\n",
    "                beta = 0.001*(l+1)\n",
    "            for i4 in np.arange(s.size):\n",
    "                S[i4, i4] = s[i4] / (s[i4]*s[i4] + beta*beta)\n",
    "            dmg = V @ S @ U.T @ e1\n",
    "            mg = m + dmg.flatten()\n",
    "            Gm = G(mg)\n",
    "            e2 = d - Gm\n",
    "            misfit2 = e2.T.dot(e2)\n",
    "            if misfit2 > misfit1:\n",
    "                l += 1\n",
    "                k += 1\n",
    "                if k == s.size:\n",
    "                    return m\n",
    "            else:\n",
    "                l = s.size+1\n",
    "                m = mg\n",
    "                dfit = (misfit1-misfit2)/misfit1\n",
    "                iteration += 1\n",
    "                if dfit < kr:\n",
    "                    return m\n",
    "    return m\n",
    "\n",
    "\n",
    "m0 = 200.0/1000.0 + np.zeros(mtrue.shape)\n",
    "\n",
    "import time\n",
    "\n",
    "t0 = time.time()\n",
    "mlm = lm(em38.G, em38.jac, data, m0, 50, 1.e-6)\n",
    "t_lm = time.time() - t0"
   ]
  },
  {
   "cell_type": "code",
   "execution_count": 5,
   "metadata": {},
   "outputs": [
    {
     "data": {
      "image/png": "[encoded data removed]",
      "text/plain": [
       "<Figure size 576x432 with 2 Axes>"
      ]
     },
     "metadata": {
      "needs_background": "light"
     },
     "output_type": "display_data"
    }
   ],
   "source": [
    "plt.figure(figsize=(8,6))\n",
    "ax1 = plt.subplot(121)\n",
    "sol.plot(mlm, ax1)\n",
    "plt.title('Modèle estimé - Marquardt', fontsize=16)\n",
    "plt.subplot(122)\n",
    "plt.plot(em38.G(mlm)-data, 'o')\n",
    "plt.xlabel('Mesure no', fontsize=14)\n",
    "plt.ylabel('Résidu (mS/m)', fontsize=14)\n",
    "plt.tight_layout()\n",
    "plt.show()"
   ]
  },
  {
   "cell_type": "markdown",
   "metadata": {},
   "source": [
    "On peut remarquer des variations brusques dans le modèle, qui ne correspondent pas au résultat attendu.  Voyons maintenant l'inversion d'Occam."
   ]
  },
  {
   "cell_type": "code",
   "execution_count": 6,
   "metadata": {},
   "outputs": [
    {
     "name": "stdout",
     "output_type": "stream",
     "text": [
      "245.1153998374939 156.68806791305542\n"
     ]
    }
   ],
   "source": [
    "def get_D(n, deg):\n",
    "    if deg == 0:\n",
    "        return np.eye(n)\n",
    "    \n",
    "    df = np.hstack((np.array([-1, 1]), np.zeros((deg-1,))))\n",
    "    for i in range(1, deg):\n",
    "        # take the difference of the lower order derivative and itself shifted left \n",
    "        # to get a derivative one order higher\n",
    "        df = np.hstack((np.zeros((1,)), df[:deg])) - np.hstack((df[:deg], np.zeros((1,))))\n",
    "\n",
    "    dn  = n - deg\n",
    "    D = np.zeros((dn, n))\n",
    "    for d in range(deg+1):\n",
    "        for i in range(dn):\n",
    "            j = i+d\n",
    "            D[i, j] = df[d]\n",
    "    return D\n",
    "    \n",
    "\n",
    "def occam(G, jac, D, d, m0, delta):\n",
    "    \"\"\"\n",
    "    Inversion d'Occam (adapté des codes Matlab de B. Borchers)\n",
    "    \n",
    "    Paramètres\n",
    "    ----------\n",
    "    G : fonction G(m)\n",
    "        fonction calculant le modèle direct\n",
    "    jac : fonction jac(m)\n",
    "        fonction calculant la jacobienne\n",
    "    d : array numpy\n",
    "        données\n",
    "    m0 : array numpy\n",
    "        modèle initial\n",
    "    delta : float\n",
    "        seuil d'application du principe de divergence (discrepancy)\n",
    "        \n",
    "    Retourne\n",
    "    --------\n",
    "    m : array numpy\n",
    "        modèle estimé\n",
    "    \"\"\"\n",
    "    \n",
    "    m = m0.copy()\n",
    "    oldm = np.zeros(m.shape)\n",
    "    it = 0\n",
    "    \n",
    "    DTD = D.T.dot(D)\n",
    "    \n",
    "    Gm = G(m)\n",
    "    mchi2 = np.linalg.norm(Gm - d)**2\n",
    "    \n",
    "    # recherche \"force brute\" du alpha optimal\n",
    "    alphas = np.logspace(-20, 0, 100)\n",
    "    chis = np.empty((alphas.size,))\n",
    "\n",
    "    while (np.linalg.norm(oldm-m)/np.linalg.norm(m) > 5.0e-3) or (mchi2 > delta*delta*1.01):\n",
    "        it += 1\n",
    "        if it > 30:\n",
    "            return m\n",
    "        \n",
    "        oldm = m.copy()\n",
    "        \n",
    "        J = jac(m)\n",
    "        \n",
    "        dhat = d - Gm + J.dot(m)\n",
    "                \n",
    "        for i in range(alphas.size):\n",
    "            M = J.T.dot(J) + alphas[i]**2*DTD\n",
    "            if np.linalg.cond(M) < 1.e15:\n",
    "                \n",
    "                m = np.linalg.solve(M, J.T.dot(dhat))\n",
    "                \n",
    "                chis[i] = np.linalg.norm(G(m) - d)**2\n",
    "            else:\n",
    "                chis[i] = np.inf\n",
    "                \n",
    "        y = chis.min()\n",
    "        if y > delta*delta:\n",
    "            i = np.argmin(chis)\n",
    "            alpha = alphas[i]\n",
    "        else:\n",
    "            i = np.where(chis<=delta*delta)\n",
    "            alpha = alphas[np.max(i)]\n",
    "            \n",
    "        m = np.linalg.solve(J.T.dot(J) + alpha**2*DTD, J.T.dot(dhat))\n",
    "        Gm = G(m)\n",
    "        mchi2 = np.linalg.norm(Gm - d)**2\n",
    "        \n",
    "    return m\n",
    "\n",
    "\n",
    "D = get_D(mtrue.size, 2)\n",
    "delta = 0.1 * np.sqrt(18)\n",
    "t0 = time.time()\n",
    "moccam = occam(em38.G, em38.jac, D, data, m0, delta)\n",
    "t_occam = time.time() - t0\n",
    "\n",
    "print(t_lm, t_occam)"
   ]
  },
  {
   "cell_type": "code",
   "execution_count": 7,
   "metadata": {},
   "outputs": [
    {
     "data": {
      "image/png": "[encoded data removed]",
      "text/plain": [
       "<Figure size 576x432 with 2 Axes>"
      ]
     },
     "metadata": {
      "needs_background": "light"
     },
     "output_type": "display_data"
    }
   ],
   "source": [
    "plt.figure(figsize=(8,6))\n",
    "ax1 = plt.subplot(121)\n",
    "sol.plot(moccam, ax1)\n",
    "plt.title('Modèle estimé - Occam', fontsize=16)\n",
    "plt.subplot(122)\n",
    "plt.plot(em38.G(moccam)-data, 'o')\n",
    "plt.xlabel('Mesure no', fontsize=14)\n",
    "plt.ylabel('Résidu (mS/m)', fontsize=14)\n",
    "plt.tight_layout()\n",
    "plt.show()"
   ]
  },
  {
   "cell_type": "code",
   "execution_count": null,
   "metadata": {},
   "outputs": [],
   "source": []
  }
 ],
 "metadata": {
  "kernelspec": {
   "display_name": "Python 3",
   "language": "python",
   "name": "python3"
  },
  "language_info": {
   "codemirror_mode": {
    "name": "ipython",
    "version": 3
   },
   "file_extension": ".py",
   "mimetype": "text/x-python",
   "name": "python",
   "nbconvert_exporter": "python",
   "pygments_lexer": "ipython3",
   "version": "3.7.7"
  }
 },
 "nbformat": 4,
 "nbformat_minor": 2
}

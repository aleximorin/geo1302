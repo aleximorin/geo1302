{
 "cells": [
  {
   "cell_type": "markdown",
   "metadata": {},
   "source": [
    "# GEO1302 - Modélisation et inversion en géophysique\n",
    "\n",
    "## Programmation orientée objet\n",
    "\n",
    "### Bernard Giroux\n",
    "\n",
    "### Hiver 2018\n",
    "\n",
    "### Version 1.0.0\n",
    "---\n"
   ]
  },
  {
   "cell_type": "markdown",
   "metadata": {},
   "source": [
    "# POO et Matlab\n",
    "\n",
    "## Définition des classes\n",
    "\n",
    "Une classe contient des attributs (`properties`) et des méthodes (`methods`)\n",
    "\n",
    "```Matlab\n",
    "classdef MaillageTriangulaire\n",
    "  properties\n",
    "    noeuds\n",
    "    triangles\n",
    "    nom\n",
    "  end\n",
    "  methods\n",
    "    function lim = getLimites(obj)\n",
    "      lim = [min(obj.noeuds) max(obj.noeuds)];\n",
    "    end\n",
    "    function n = getNombreDeNoeuds(obj)\n",
    "      n = size(obj.noeuds,1);\n",
    "    end\n",
    "    function n = getNombreDeCellules(obj)\n",
    "      n = size(obj.triangles,1);\n",
    "    end\n",
    "  end\n",
    "end\n",
    "```"
   ]
  },
  {
   "cell_type": "code",
   "execution_count": 1,
   "metadata": {},
   "outputs": [],
   "source": [
    "path(path, './mfiles')"
   ]
  },
  {
   "cell_type": "markdown",
   "metadata": {},
   "source": [
    "### Création d'un objet"
   ]
  },
  {
   "cell_type": "code",
   "execution_count": 2,
   "metadata": {},
   "outputs": [
    {
     "name": "stdout",
     "output_type": "stream",
     "text": [
      "\n",
      "mt = \n",
      "\n",
      "  MaillageTriangulaire with properties:\n",
      "\n",
      "       noeuds: []\n",
      "    triangles: []\n",
      "          nom: []\n",
      "\n"
     ]
    }
   ],
   "source": [
    "mt = MaillageTriangulaire"
   ]
  },
  {
   "cell_type": "markdown",
   "metadata": {},
   "source": [
    "### Accès aux attributs"
   ]
  },
  {
   "cell_type": "code",
   "execution_count": 3,
   "metadata": {},
   "outputs": [],
   "source": [
    "mt.noeuds = [0 0 0; 1 0 0; 0 0 1];"
   ]
  },
  {
   "cell_type": "markdown",
   "metadata": {},
   "source": [
    "### Appel des méthodes\n",
    "- 2 options possibles\n",
    "- la 1re notation est couramment utilisée dans d’autres languages comme C++, java, ..."
   ]
  },
  {
   "cell_type": "code",
   "execution_count": 4,
   "metadata": {},
   "outputs": [
    {
     "name": "stdout",
     "output_type": "stream",
     "text": [
      "\n",
      "lim =\n",
      "\n",
      "     0     0     0     1     0     1\n",
      "\n",
      "\n",
      "lim =\n",
      "\n",
      "     0     0     0     1     0     1\n",
      "\n"
     ]
    }
   ],
   "source": [
    "lim = mt.getLimites()\n",
    "lim = getLimites(mt)"
   ]
  },
  {
   "cell_type": "markdown",
   "metadata": {},
   "source": [
    "### Classes vs structures\n",
    "\n",
    "- Une classe permet de regrouper des variables, tout comme une structure\n",
    "- Avantages d’une classe p/r à une structure\n",
    "  * Impossible de se tromper de nom de variables :"
   ]
  },
  {
   "cell_type": "code",
   "execution_count": 5,
   "metadata": {},
   "outputs": [
    {
     "name": "stderr",
     "output_type": "stream",
     "text": [
      "\u001b[0;31mNo public property neuds exists for class MaillageTriangulaire.\n",
      "\n",
      "\u001b[0m"
     ]
    }
   ],
   "source": [
    "mt.neuds = [0 0 0; 1 0 0; 0 0 1];"
   ]
  },
  {
   "cell_type": "markdown",
   "metadata": {},
   "source": [
    "- une classe peut être identifiée (commande `class`)\n",
    "- possible de _valider l'assignation aux attributs_:\n",
    "\n",
    "```\n",
    "function obj = set.noeuds(obj, n)\n",
    "  if isnumeric(n)\n",
    "    if size(n,2)~=3\n",
    "      error('n doit etre de dimension nNoeuds x 3')\n",
    "    end\n",
    "    obj.noeuds = n;\n",
    "  else\n",
    "    error('Les arguments doivent etre numeriques')\n",
    "  end\n",
    "end\n",
    "```"
   ]
  },
  {
   "cell_type": "markdown",
   "metadata": {},
   "source": [
    "### Constructeur\n",
    "\n",
    "- Un constructeur est une fonction spéciale servant à créer les objets\n",
    "- Le constructeur porte le nom de la classe\n",
    "- MATLAB ne permet qu’il seul constructeur\n",
    "- Lorsque l’assignation des attributs est validée (fonction `set.`), le constructeur permet de valider les valeurs assignées aux attributs dès le départ\n",
    "\n",
    "```\n",
    "function obj = MaillageTriangulaire(nom, n, t)\n",
    "  if nargin > 0\n",
    "    obj.nom = nom\n",
    "    obj.noeuds = n;\n",
    "    obj.triangles = t;\n",
    "  end\n",
    "end\n",
    "```"
   ]
  },
  {
   "cell_type": "code",
   "execution_count": 6,
   "metadata": {},
   "outputs": [
    {
     "name": "stdout",
     "output_type": "stream",
     "text": [
      "\n",
      "mt = \n",
      "\n",
      "  MaillageTriangulaire with properties:\n",
      "\n",
      "       noeuds: [3�3 double]\n",
      "    triangles: [1 2 3]\n",
      "          nom: 'mt1'\n",
      "\n"
     ]
    }
   ],
   "source": [
    "n = [0 0 0; 1 0 0; 0 0 1];\n",
    "t = [1 2 3];\n",
    "mt = MaillageTriangulaire('mt1', n, t)\n"
   ]
  },
  {
   "cell_type": "code",
   "execution_count": 7,
   "metadata": {},
   "outputs": [
    {
     "name": "stderr",
     "output_type": "stream",
     "text": [
      "\u001b[0;31mError using MaillageTriangulaire/set.triangles (line 34)\n",
      "n doit etre de dimension nNoeuds x 3\n",
      "\n",
      "Error in MaillageTriangulaire (line 18)\n",
      "                obj.triangles = t;\n",
      "\n",
      "\u001b[0m"
     ]
    }
   ],
   "source": [
    "t = [1 2 3 4];\n",
    "mt2 = MaillageTriangulaire('mt2', n, t)"
   ]
  },
  {
   "cell_type": "markdown",
   "metadata": {},
   "source": [
    "### Attributs privés\n",
    "\n",
    "- Par défaut, les attributs (et méthodes) sont en tout temps accessibles\n",
    "  * on dit qu’ils sont publics\n",
    "- Il peut être souhaitable de faire en sorte qu’un attribut ne puisse pas être modifié, ou qu’il soit _privé_:\n",
    "  * e.g. l’attribut nom d’un objet est assigné à sa création et doit demeurer constant.\n",
    "```\n",
    "properties (SetAccess=private)\n",
    "        nom\n",
    "end\n",
    "```\n",
    "  * L’attribut `nom` ne peut pas être modifié directement\n",
    "  * Il faut créer une méthode spécifique si on souhaite pouvoir assigner le nom.\n",
    "- Si on souhaite que les classes dérivées aient accès aux attributs, ceux-ci doivent être _protégés_ (`protected`)\n",
    "- Les attributs ont plusieurs [autres propriétés](https://www.mathworks.com/help/matlab/matlab_oop/property-attributes.html)\n",
    "\n",
    "```\n",
    "function obj = set.nom(obj, n)\n",
    "  if ischar(n)\n",
    "    obj.nom = n;\n",
    "  else\n",
    "    error('Le nom doit etre une chaine de caracteres')\n",
    "  end\n",
    "end\n",
    "function obj = setNom(obj, n)\n",
    "  obj.nom = n;\n",
    "end\n",
    "```\n"
   ]
  },
  {
   "cell_type": "code",
   "execution_count": 8,
   "metadata": {},
   "outputs": [
    {
     "name": "stdout",
     "output_type": "stream",
     "text": [
      "\n",
      "ans =\n",
      "\n",
      "m1\n",
      "\n"
     ]
    },
    {
     "name": "stderr",
     "output_type": "stream",
     "text": [
      "\u001b[0;31mYou cannot set the read-only property 'nom' of 'MaillageTriangulaire'.\n",
      "\n",
      "\u001b[0m"
     ]
    }
   ],
   "source": [
    "n = [0 0 0; 1 0 0; 0 0 1];\n",
    "t = [1 2 3];\n",
    "mt = MaillageTriangulaire('m1', n, t);\n",
    "mt.nom\n",
    "mt.nom = 'm2';"
   ]
  },
  {
   "cell_type": "code",
   "execution_count": 9,
   "metadata": {},
   "outputs": [
    {
     "name": "stdout",
     "output_type": "stream",
     "text": [
      "\n",
      "ans = \n",
      "\n",
      "  MaillageTriangulaire with properties:\n",
      "\n",
      "       noeuds: [3�3 double]\n",
      "    triangles: [1 2 3]\n",
      "          nom: 'm2'\n",
      "\n",
      "\n",
      "ans =\n",
      "\n",
      "m1\n",
      "\n",
      "\n",
      "ans =\n",
      "\n",
      "m1\n",
      "\n",
      "\n",
      "ans =\n",
      "\n",
      "m2\n",
      "\n"
     ]
    }
   ],
   "source": [
    "mt.setNom('m2')\n",
    "mt.nom\n",
    "mt2 = mt.setNom('m2');\n",
    "mt.nom\n",
    "mt2.nom"
   ]
  },
  {
   "cell_type": "markdown",
   "metadata": {},
   "source": [
    "- Contrairement à la méthode `set.nom`, la méthode `setNom` retourne un _nouvel objet_\n",
    "  * vrai, que l'attribut soir privé ou non\n",
    "- Dans l'exemple précédent, à la 1re ligne, le nouvel objet n'est assigné à aucune variable"
   ]
  },
  {
   "cell_type": "code",
   "execution_count": null,
   "metadata": {},
   "outputs": [],
   "source": []
  }
 ],
 "metadata": {
  "kernelspec": {
   "display_name": "Matlab",
   "language": "matlab",
   "name": "matlab"
  },
  "language_info": {
   "codemirror_mode": "octave",
   "file_extension": ".m",
   "help_links": [
    {
     "text": "MetaKernel Magics",
     "url": "https://github.com/calysto/metakernel/blob/master/metakernel/magics/README.md"
    }
   ],
   "mimetype": "text/x-octave",
   "name": "matlab",
   "version": "0.15.0"
  }
 },
 "nbformat": 4,
 "nbformat_minor": 2
}
